{
 "cells": [
  {
   "cell_type": "code",
   "execution_count": null,
   "id": "296af33b",
   "metadata": {},
   "outputs": [],
   "source": []
  },
  {
   "cell_type": "code",
   "execution_count": 15,
   "id": "3283097b",
   "metadata": {
    "scrolled": false
   },
   "outputs": [
    {
     "name": "stdout",
     "output_type": "stream",
     "text": [
      "NEWTON METHOD AND BISECTION METHOD COMPARISON\n"
     ]
    }
   ],
   "source": [
    "print(\"NEWTON METHOD AND BISECTION METHOD COMPARISON\")"
   ]
  },
  {
   "cell_type": "code",
   "execution_count": null,
   "id": "bb28aca8",
   "metadata": {},
   "outputs": [],
   "source": []
  },
  {
   "cell_type": "code",
   "execution_count": 22,
   "id": "be8e0bdb",
   "metadata": {},
   "outputs": [
    {
     "name": "stdout",
     "output_type": "stream",
     "text": [
      "1.38 µs ± 27.6 ns per loop (mean ± std. dev. of 4 runs, 10000 loops each)\n"
     ]
    }
   ],
   "source": [
    "%%timeit -r 4 -n 10000\n",
    "#newton rhapshon\n",
    "import numpy as np\n",
    "\n",
    "f = lambda x: x**4 - 2\n",
    "f_prime = lambda x: 4*x**3\n",
    "\n",
    "def newton(f, df, x0, tol):\n",
    "    # output is an estimation of the root of f using the Newton Raphson method\n",
    "    if abs(f(x0)) < tol:\n",
    "        return x0\n",
    "    else:\n",
    "        #recursive call\n",
    "        return newton(f, df, x0 - f(x0)/df(x0), tol)\n",
    "\n"
   ]
  },
  {
   "cell_type": "markdown",
   "id": "c0846e95",
   "metadata": {},
   "source": [
    "$$\n",
    "\\ f(x)=x^{4}-2,  f'(x)=4x^{3}\n",
    "$$"
   ]
  },
  {
   "cell_type": "code",
   "execution_count": 31,
   "id": "7e51a070",
   "metadata": {},
   "outputs": [
    {
     "name": "stdout",
     "output_type": "stream",
     "text": [
      "1.06 µs ± 29.8 ns per loop (mean ± std. dev. of 4 runs, 10000 loops each)\n"
     ]
    }
   ],
   "source": [
    "%%timeit -r 4 -n 10000\n",
    "import numpy as np\n",
    "\n",
    "def bisection(f, a, b, tol): \n",
    "    # approximates a root of f bounded by a and b to within tolerance \n",
    "    # absolute f(m) < tol with m the midpoint \n",
    "    \n",
    "    # check if a and b bound a root\n",
    "    if np.sign(f(a)) == np.sign(f(b)):\n",
    "        return\"The scalars a and b do not bound a root\"\n",
    "        \n",
    "    # get midpoint\n",
    "    m = (a + b)/2\n",
    "    \n",
    "    if np.abs(f(m)) < tol:\n",
    "        #report m as root\n",
    "        return m\n",
    "    elif np.sign(f(a)) == np.sign(f(m)):\n",
    "        # when m is an improvement on a, make a recursive call with a = m\n",
    "        return my_bisection(f, m, b, tol)\n",
    "    elif np.sign(f(b)) == np.sign(f(m)):\n",
    "        # when m is an improvement on b, make recursive call with b = m\n",
    "        return my_bisection(f, a, m, tol)\n",
    "    \n",
    "f = lambda x: x**4 - 2\n"
   ]
  },
  {
   "cell_type": "markdown",
   "id": "ca4d3b6c",
   "metadata": {},
   "source": [
    "$$\n",
    "\\ f(x)= x^{4}-2\n",
    "$$"
   ]
  },
  {
   "cell_type": "markdown",
   "id": "a3896886",
   "metadata": {},
   "source": [
    "$$Newton\\ raphson\\ method\\ is\\ faster\\ than\\ Bisection\\ method\\ with\\ a\\ speed\\  of\\  1.06\\mu s\\  compared\\\\  to\\ bisection\\ methods\\ 1.38\\mu s\n",
    "$$"
   ]
  },
  {
   "cell_type": "code",
   "execution_count": null,
   "id": "de47bcb8",
   "metadata": {},
   "outputs": [],
   "source": []
  },
  {
   "cell_type": "markdown",
   "id": "fff3d64e",
   "metadata": {},
   "source": [
    "$$ IMPLEMENTATION\\ OF\\ ACTUAL\\ CODE\\ IS\\ BELOW\\ \\downarrow\n",
    "$$"
   ]
  },
  {
   "cell_type": "code",
   "execution_count": 29,
   "id": "e915f00d",
   "metadata": {},
   "outputs": [
    {
     "name": "stdout",
     "output_type": "stream",
     "text": [
      "1.1892071150571961\n"
     ]
    }
   ],
   "source": [
    "#newton rhapshon\n",
    "import numpy as np\n",
    "x0=3\n",
    "f = lambda x: x**4 - 2\n",
    "f_prime = lambda x: 4*x**3\n",
    "tol=1e-6\n",
    "\n",
    "def newton(f, df, x0, tol):\n",
    "    if abs(f(x0)) < tol:\n",
    "      print(x0)\n",
    "    else:\n",
    "        return newton(f, df, x0 - f(x0)/df(x0), tol)\n",
    "\n",
    "newton(f,f_prime,x0,tol)"
   ]
  },
  {
   "cell_type": "code",
   "execution_count": 30,
   "id": "c847b6a4",
   "metadata": {},
   "outputs": [
    {
     "name": "stdout",
     "output_type": "stream",
     "text": [
      "1.1892070472240448\n"
     ]
    }
   ],
   "source": [
    "import numpy as np\n",
    "\n",
    "def bisection(f, a, b, tol):\n",
    "    \n",
    "    # check if a and b have a root\n",
    "    if np.sign(f(a)) == np.sign(f(b)):\n",
    "        return \"The scalars a and b do not bound a root\"\n",
    "    # get midpoint\n",
    "    m = (a + b)/2\n",
    "    \n",
    "    if np.abs(f(m)) < tol:\n",
    "        #  print m as root\n",
    "        print (m)\n",
    "    elif np.sign(f(a)) == np.sign(f(m)): \n",
    "        # Make recursive call with a = m\n",
    "        return bisection(f, m, b, tol)\n",
    "    elif np.sign(f(b)) == np.sign(f(m)):\n",
    "        # Make recursive call with b = m\n",
    "        return bisection(f, a, m, tol)\n",
    "    \n",
    "f = lambda x: x**4 - 2\n",
    "#tolerance\n",
    "tol=1e-6\n",
    "#call function set bounds within which function will operate\n",
    "bisection(f,1,10,tol)"
   ]
  },
  {
   "cell_type": "markdown",
   "id": "f13c3f3d",
   "metadata": {},
   "source": [
    "$$ Both\\ methods\\ return\\ same\\ values\\ for\\ root\\ with\\ minor\\ differences\\ in\\ the\\ lower\\ decimal\\ places $$"
   ]
  },
  {
   "cell_type": "markdown",
   "id": "64561893",
   "metadata": {},
   "source": [
    "$$ \\underline{CONCLUSION} \\\\\n",
    "EVEN\\ THOUGH\\ BOTH\\ METHODS\\ CAN\\ BE\\ USED\\ TO\\ FIND\\ ROOTS\\ THE\\ NEWTON\\ RAPHSON\\ METHOD\\ IS\\ FASTER\\\n",
    "$$"
   ]
  },
  {
   "cell_type": "code",
   "execution_count": null,
   "id": "1c6da83a",
   "metadata": {},
   "outputs": [],
   "source": []
  }
 ],
 "metadata": {
  "kernelspec": {
   "display_name": "Python 3 (ipykernel)",
   "language": "python",
   "name": "python3"
  },
  "language_info": {
   "codemirror_mode": {
    "name": "ipython",
    "version": 3
   },
   "file_extension": ".py",
   "mimetype": "text/x-python",
   "name": "python",
   "nbconvert_exporter": "python",
   "pygments_lexer": "ipython3",
   "version": "3.9.13"
  }
 },
 "nbformat": 4,
 "nbformat_minor": 5
}
